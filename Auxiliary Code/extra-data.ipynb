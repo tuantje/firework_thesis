{
 "cells": [
  {
   "cell_type": "code",
   "execution_count": 1,
   "id": "2d07487b",
   "metadata": {},
   "outputs": [],
   "source": [
    "from pydub import AudioSegment\n",
    "import os\n",
    "\n",
    "# directory for 10 second clips\n",
    "dir_10 = \"D:\\\\scriptie\\\\sensor_analysis\\\\CNN-training\\\\data\\\\only_fw_audio_segments\"\n",
    "\n",
    "# directories for wav files\n",
    "dirs_wav = [\n",
    "    \"D:\\\\scriptie\\\\sensor_analysis\\\\CNN-training\\\\data\\\\fireworks1\",\n",
    "    \"D:\\\\scriptie\\\\sensor_analysis\\\\CNN-training\\\\data\\\\fireworks5\",\n",
    "]\n",
    "\n",
    "# corresponding directories for ogg files\n",
    "dirs_ogg = [\n",
    "    \"D:\\\\scriptie\\\\sensor_analysis\\\\CNN-training\\\\data\\\\fireworks1-ogg\",\n",
    "    \"D:\\\\scriptie\\\\sensor_analysis\\\\CNN-training\\\\data\\\\fireworks5-ogg\",\n",
    "]\n",
    "\n"
   ]
  },
  {
   "cell_type": "code",
   "execution_count": 2,
   "id": "06582a06",
   "metadata": {},
   "outputs": [],
   "source": [
    "# Slice the 10 second clips into two 5 second clips and ten 1 second clips\n",
    "for filename in os.listdir(dir_10):\n",
    "    if filename.endswith(\".wav\"):  # check if it's a .wav file\n",
    "        audio = AudioSegment.from_wav(os.path.join(dir_10, filename))\n",
    "        \n",
    "        # Create two 5 second clips\n",
    "        for i in range(2):\n",
    "            split_audio = audio[i*5000:(i+1)*5000]  # pydub does things in milliseconds\n",
    "            split_audio.export(os.path.join(dirs_wav[1], filename[:-4] + \"_part5s{}.wav\".format(i)), format=\"wav\")  \n",
    "        \n",
    "        # Create ten 1 second clips\n",
    "        for i in range(10):\n",
    "            split_audio = audio[i*1000:(i+1)*1000]\n",
    "            split_audio.export(os.path.join(dirs_wav[0], filename[:-4] + \"_part1s{}.wav\".format(i)), format=\"wav\")\n",
    "\n",
    "\n"
   ]
  },
  {
   "cell_type": "code",
   "execution_count": 3,
   "id": "78fa4ed1",
   "metadata": {},
   "outputs": [],
   "source": [
    "# Convert the new wav files to ogg files\n",
    "for i in range(len(dirs_wav)):\n",
    "    if not os.path.exists(dirs_ogg[i]):\n",
    "        os.makedirs(dirs_ogg[i])\n",
    "    for filename in os.listdir(dirs_wav[i]):\n",
    "        if filename.endswith(\".wav\") and (\"part5s\" in filename or \"part1s\" in filename):  # check if it's a new .wav file\n",
    "            audio = AudioSegment.from_wav(os.path.join(dirs_wav[i], filename))\n",
    "            audio.export(os.path.join(dirs_ogg[i], filename[:-4] + \".ogg\"), format=\"ogg\")  "
   ]
  },
  {
   "cell_type": "code",
   "execution_count": null,
   "id": "bb430ea2",
   "metadata": {},
   "outputs": [],
   "source": []
  }
 ],
 "metadata": {
  "kernelspec": {
   "display_name": "Python 3.9 (tensorflow)",
   "language": "python",
   "name": "tensorflow"
  },
  "language_info": {
   "codemirror_mode": {
    "name": "ipython",
    "version": 3
   },
   "file_extension": ".py",
   "mimetype": "text/x-python",
   "name": "python",
   "nbconvert_exporter": "python",
   "pygments_lexer": "ipython3",
   "version": "3.9.16"
  }
 },
 "nbformat": 4,
 "nbformat_minor": 5
}
