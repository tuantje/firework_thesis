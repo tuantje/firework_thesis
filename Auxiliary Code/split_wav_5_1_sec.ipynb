{
 "cells": [
  {
   "cell_type": "code",
   "execution_count": 1,
   "id": "8761fb4b",
   "metadata": {},
   "outputs": [],
   "source": [
    "import numpy as np\n",
    "import soundfile as sf\n",
    "import librosa\n",
    "import os\n",
    "\n",
    "# Define file paths\n",
    "input_filepath = \"/home/tnguyen/Downloads/sensor1.wav\"\n",
    "output_folder = \"/home/tnguyen/Downloads/s1-5-sec/\"\n",
    "\n",
    "# Create the output directory if it doesn't already exist\n",
    "os.makedirs(output_folder, exist_ok=True)\n",
    "\n",
    "# Load the audio file with librosa\n",
    "y, sr = librosa.load(input_filepath)\n",
    "\n",
    "# Determine the number of samples per frame\n",
    "frame_length = 5 * sr\n",
    "\n",
    "# Determine the total number of frames\n",
    "num_frames = len(y) // frame_length\n",
    "\n",
    "\n"
   ]
  },
  {
   "cell_type": "code",
   "execution_count": 4,
   "id": "12a9fb28",
   "metadata": {},
   "outputs": [
    {
     "name": "stderr",
     "output_type": "stream",
     "text": [
      "100%|████████████████████████████████████████| 359/359 [00:01<00:00, 234.94it/s]\n"
     ]
    }
   ],
   "source": [
    "from tqdm import tqdm\n",
    "# Split the audio into frames and save each frame\n",
    "for i in tqdm(range(num_frames)):\n",
    "    # Get the start and end indices of the current frame\n",
    "    start = i * frame_length\n",
    "    end = (i + 1) * frame_length\n",
    "\n",
    "    # Extract the frame\n",
    "    frame = y[start:end]\n",
    "\n",
    "    # Construct the output filename\n",
    "    output_filename = os.path.join(output_folder, f\"clip{i+1}.wav\")\n",
    "\n",
    "    # Save the frame\n",
    "    sf.write(output_filename, frame, sr)"
   ]
  },
  {
   "cell_type": "code",
   "execution_count": 3,
   "id": "19212e8a",
   "metadata": {},
   "outputs": [],
   "source": []
  },
  {
   "cell_type": "code",
   "execution_count": 5,
   "id": "151ed0a6",
   "metadata": {},
   "outputs": [
    {
     "name": "stderr",
     "output_type": "stream",
     "text": [
      "100%|██████████████████████████████████████| 1799/1799 [00:04<00:00, 375.88it/s]\n"
     ]
    }
   ],
   "source": [
    "import numpy as np\n",
    "import soundfile as sf\n",
    "import librosa\n",
    "import os\n",
    "from tqdm import tqdm\n",
    "\n",
    "# Define file paths\n",
    "input_filepath = \"/home/tnguyen/Downloads/sensor1.wav\"\n",
    "output_folder = \"/home/tnguyen/Downloads/s1-1-sec/\"\n",
    "\n",
    "# Create the output directory if it doesn't already exist\n",
    "os.makedirs(output_folder, exist_ok=True)\n",
    "\n",
    "# Load the audio file with librosa\n",
    "y, sr = librosa.load(input_filepath)\n",
    "\n",
    "# Determine the number of samples per frame\n",
    "frame_length = 1 * sr\n",
    "\n",
    "# Determine the total number of frames\n",
    "num_frames = len(y) // frame_length\n",
    "\n",
    "# Split the audio into frames and save each frame\n",
    "for i in tqdm(range(num_frames)):\n",
    "    # Get the start and end indices of the current frame\n",
    "    start = i * frame_length\n",
    "    end = (i + 1) * frame_length\n",
    "\n",
    "    # Extract the frame\n",
    "    frame = y[start:end]\n",
    "\n",
    "    # Construct the output filename\n",
    "    output_filename = os.path.join(output_folder, f\"clip{i+1}.wav\")\n",
    "\n",
    "    # Save the frame\n",
    "    sf.write(output_filename, frame, sr)\n"
   ]
  },
  {
   "cell_type": "code",
   "execution_count": null,
   "id": "62a6d728",
   "metadata": {},
   "outputs": [],
   "source": []
  },
  {
   "cell_type": "code",
   "execution_count": 6,
   "id": "d69a0a2e",
   "metadata": {},
   "outputs": [
    {
     "name": "stderr",
     "output_type": "stream",
     "text": [
      "100%|██████████████████████████████████████| 1799/1799 [00:16<00:00, 107.55it/s]\n",
      "100%|█████████████████████████████████████████| 359/359 [00:08<00:00, 42.93it/s]\n"
     ]
    }
   ],
   "source": [
    "import os\n",
    "import soundfile as sf\n",
    "from tqdm import tqdm\n",
    "\n",
    "# Define the source and target directories\n",
    "source_dirs = [\"/home/tnguyen/Downloads/s1-1-sec/\", \"/home/tnguyen/Downloads/s1-5-sec/\"]\n",
    "target_dirs = [\"/home/tnguyen/Downloads/s1-1-sec-ogg/\", \"/home/tnguyen/Downloads/s1-5-sec-ogg/\"]\n",
    "\n",
    "# Iterate over each source and target directory\n",
    "for source_dir, target_dir in zip(source_dirs, target_dirs):\n",
    "    # Ensure the target directory exists\n",
    "    os.makedirs(target_dir, exist_ok=True)\n",
    "\n",
    "    # Get a list of all WAV files in the source directory\n",
    "    wav_files = [f for f in os.listdir(source_dir) if f.endswith('.wav')]\n",
    "\n",
    "    # Iterate over each WAV file\n",
    "    for wav_file in tqdm(wav_files):\n",
    "        # Define the source and target file paths\n",
    "        source_filepath = os.path.join(source_dir, wav_file)\n",
    "        target_filepath = os.path.join(target_dir, wav_file.replace('.wav', '.ogg'))\n",
    "\n",
    "        # Read the WAV file\n",
    "        data, samplerate = sf.read(source_filepath)\n",
    "\n",
    "        # Write the data to the OGG file\n",
    "        sf.write(target_filepath, data, samplerate, format='OGG')\n"
   ]
  },
  {
   "cell_type": "code",
   "execution_count": null,
   "id": "73573092",
   "metadata": {},
   "outputs": [],
   "source": []
  }
 ],
 "metadata": {
  "kernelspec": {
   "display_name": "Python 3 (ipykernel)",
   "language": "python",
   "name": "python3"
  },
  "language_info": {
   "codemirror_mode": {
    "name": "ipython",
    "version": 3
   },
   "file_extension": ".py",
   "mimetype": "text/x-python",
   "name": "python",
   "nbconvert_exporter": "python",
   "pygments_lexer": "ipython3",
   "version": "3.10.9"
  }
 },
 "nbformat": 4,
 "nbformat_minor": 5
}
