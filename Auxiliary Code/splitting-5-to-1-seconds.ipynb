{
 "cells": [
  {
   "cell_type": "code",
   "execution_count": 1,
   "id": "fc2fc170",
   "metadata": {},
   "outputs": [],
   "source": [
    "from pydub import AudioSegment\n",
    "import os\n",
    "\n",
    "# directories for 5 second clips\n",
    "dirs5 = [\n",
    "    \"D:\\\\scriptie\\\\sensor_analysis\\\\CNN-training\\\\data\\\\fireworks5\",\n",
    "    \"D:\\\\scriptie\\\\sensor_analysis\\\\CNN-training\\\\data\\\\rain5\",\n",
    "    \"D:\\\\scriptie\\\\sensor_analysis\\\\CNN-training\\\\data\\\\wind5\"\n",
    "]\n",
    "\n",
    "# corresponding directories for 1 second clips\n",
    "dirs1 = [\n",
    "    \"D:\\\\scriptie\\\\sensor_analysis\\\\CNN-training\\\\data\\\\fireworks1\",\n",
    "    \"D:\\\\scriptie\\\\sensor_analysis\\\\CNN-training\\\\data\\\\rain1\",\n",
    "    \"D:\\\\scriptie\\\\sensor_analysis\\\\CNN-training\\\\data\\\\wind1\"\n",
    "]\n",
    "\n"
   ]
  },
  {
   "cell_type": "code",
   "execution_count": 2,
   "id": "83c71b73",
   "metadata": {},
   "outputs": [],
   "source": [
    "for i in range(len(dirs5)):\n",
    "    if not os.path.exists(dirs1[i]):\n",
    "        os.makedirs(dirs1[i])\n",
    "    for filename in os.listdir(dirs5[i]):\n",
    "        if filename.endswith(\".wav\") or filename.endswith(\".ogg\"):  # check if it's a .wav or .ogg file\n",
    "            audio = AudioSegment.from_file(os.path.join(dirs5[i], filename))\n",
    "            for j in range(5):  # split the 5 second clip into 5\n",
    "                split_audio = audio[j*1000:(j+1)*1000]  # pydub does things in milliseconds\n",
    "                split_audio.export(os.path.join(dirs1[i], filename[:-4] + \"_part{}.wav\".format(j)), format=\"wav\")  \n"
   ]
  },
  {
   "cell_type": "code",
   "execution_count": null,
   "id": "62638cdc",
   "metadata": {},
   "outputs": [],
   "source": []
  }
 ],
 "metadata": {
  "kernelspec": {
   "display_name": "Python 3.9 (tensorflow)",
   "language": "python",
   "name": "tensorflow"
  },
  "language_info": {
   "codemirror_mode": {
    "name": "ipython",
    "version": 3
   },
   "file_extension": ".py",
   "mimetype": "text/x-python",
   "name": "python",
   "nbconvert_exporter": "python",
   "pygments_lexer": "ipython3",
   "version": "3.9.16"
  }
 },
 "nbformat": 4,
 "nbformat_minor": 5
}
