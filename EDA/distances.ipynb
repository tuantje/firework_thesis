{
 "cells": [
  {
   "cell_type": "code",
   "execution_count": 1,
   "id": "c51695ab",
   "metadata": {},
   "outputs": [],
   "source": [
    "import pandas as pd\n",
    "import numpy as np\n",
    "from haversine import haversine\n",
    "\n",
    "# Read in the CSV file\n",
    "data = pd.read_csv('D:\\\\scriptie\\\\sensor_analysis\\\\CNN-training\\\\csv files\\\\coordinates_kerkhoflaan.csv')\n",
    "\n"
   ]
  },
  {
   "cell_type": "code",
   "execution_count": 2,
   "id": "a2970873",
   "metadata": {},
   "outputs": [],
   "source": [
    "# Extract the coordinates\n",
    "coords = data[['lon', 'lat']].values\n",
    "\n",
    "# Number of sensors\n",
    "num_sensors = coords.shape[0]\n",
    "\n",
    "# Create an empty array for the distances\n",
    "distances = np.zeros((num_sensors, num_sensors))\n",
    "\n"
   ]
  },
  {
   "cell_type": "code",
   "execution_count": 7,
   "id": "4c4d5db0",
   "metadata": {},
   "outputs": [],
   "source": [
    "from tqdm import tqdm"
   ]
  },
  {
   "cell_type": "code",
   "execution_count": 9,
   "id": "8736a257",
   "metadata": {},
   "outputs": [],
   "source": [
    "?haversine"
   ]
  },
  {
   "cell_type": "code",
   "execution_count": 10,
   "id": "970b19e7",
   "metadata": {},
   "outputs": [
    {
     "name": "stderr",
     "output_type": "stream",
     "text": [
      "  0%|                                                                                            | 0/9 [00:00<?, ?it/s]\n",
      "100%|██████████████████████████████████████████████████████████████████████████████████| 9/9 [00:00<00:00, 8919.83it/s]\u001b[A\n",
      "\n",
      "100%|████████████████████████████████████████████████████████████████████████████████████████████| 9/9 [00:00<?, ?it/s]\u001b[A\n",
      "\n",
      "100%|██████████████████████████████████████████████████████████████████████████████████| 9/9 [00:00<00:00, 9017.85it/s]\u001b[A\n",
      "\n",
      "100%|████████████████████████████████████████████████████████████████████████████████████████████| 9/9 [00:00<?, ?it/s]\u001b[A\n",
      "\n",
      "100%|████████████████████████████████████████████████████████████████████████████████████████████| 9/9 [00:00<?, ?it/s]\u001b[A\n",
      "\n",
      "100%|████████████████████████████████████████████████████████████████████████████████████████████| 9/9 [00:00<?, ?it/s]\u001b[A\n",
      "\n",
      "100%|██████████████████████████████████████████████████████████████████████████████████| 9/9 [00:00<00:00, 9017.85it/s]\u001b[A\n",
      "\n",
      "100%|██████████████████████████████████████████████████████████████████████████████████| 9/9 [00:00<00:00, 9015.70it/s]\u001b[A\n",
      "\n",
      "100%|██████████████████████████████████████████████████████████████████████████████████| 9/9 [00:00<00:00, 8998.51it/s]\u001b[A\n",
      "100%|███████████████████████████████████████████████████████████████████████████████████| 9/9 [00:00<00:00, 157.85it/s]\n"
     ]
    }
   ],
   "source": [
    "# Calculate distances for every pair of points\n",
    "for i in tqdm(range(num_sensors)):\n",
    "    for j in tqdm(range(num_sensors)):\n",
    "        distances[i, j] = haversine(coords[i], coords[j],unit='m')\n",
    "\n",
    "\n"
   ]
  },
  {
   "cell_type": "code",
   "execution_count": 14,
   "id": "cf5b1469",
   "metadata": {},
   "outputs": [
    {
     "name": "stdout",
     "output_type": "stream",
     "text": [
      "     1      2       3       4       5       6       7       8       9\n",
      "1  0.0  52.43  106.25  139.98  214.30  307.54  455.28  607.96  809.49\n",
      "2  NaN   0.00   53.84   88.99  162.04  255.30  402.95  555.59  757.39\n",
      "3  NaN    NaN    0.00   39.48  108.32  201.56  349.13  501.75  703.74\n",
      "4  NaN    NaN     NaN    0.00   77.06  169.12  317.00  469.76  670.03\n",
      "5  NaN    NaN     NaN     NaN    0.00   93.26  241.01  393.74  595.42\n",
      "6  NaN    NaN     NaN     NaN     NaN    0.00  147.92  300.69  502.21\n",
      "7  NaN    NaN     NaN     NaN     NaN     NaN    0.00  152.77  355.61\n",
      "8  NaN    NaN     NaN     NaN     NaN     NaN     NaN    0.00  206.19\n",
      "9  NaN    NaN     NaN     NaN     NaN     NaN     NaN     NaN    0.00\n"
     ]
    }
   ],
   "source": [
    "# Renaming sensors\n",
    "sensor_names = list(range(1, num_sensors + 1))\n",
    "\n",
    "# Convert to pandas DataFrame\n",
    "distances = pd.DataFrame(distances, index=sensor_names, columns=sensor_names)\n",
    "distances = distances.round(2)\n",
    "\n",
    "# Mask the lower triangle and diagonal\n",
    "mask = np.triu(np.ones_like(distances, dtype=bool))\n",
    "distances = distances.where(mask)\n",
    "\n",
    "# Show the upper triangular distances matrix\n",
    "print(distances)"
   ]
  },
  {
   "cell_type": "code",
   "execution_count": 17,
   "id": "714fdca4",
   "metadata": {},
   "outputs": [],
   "source": [
    "import geopandas as gpd"
   ]
  },
  {
   "cell_type": "code",
   "execution_count": 21,
   "id": "78ddaf73",
   "metadata": {},
   "outputs": [],
   "source": [
    "from shapely.geometry import Point, LineString\n",
    "import matplotlib.pyplot as plt\n"
   ]
  },
  {
   "cell_type": "code",
   "execution_count": 30,
   "id": "e1c61fc5",
   "metadata": {},
   "outputs": [],
   "source": [
    "import folium\n",
    "from geopy import distance\n"
   ]
  },
  {
   "cell_type": "code",
   "execution_count": 42,
   "id": "c95afbdc",
   "metadata": {},
   "outputs": [],
   "source": [
    "# Calculate center of map\n",
    "map_center = [data['lat'].mean(), data['lon'].mean()]\n",
    "\n",
    "# Create the map\n",
    "m = folium.Map(location=map_center, zoom_start=14)\n",
    "\n",
    "# Add points for each sensor\n",
    "for i, row in data.iterrows():\n",
    "    folium.Marker([row['lat'], row['lon']], popup=row['sensor'], icon=folium.Icon(icon='feed', color='green',prefix='fa')).add_to(m)\n",
    "\n",
    "# Distances from each sensor to the next\n",
    "for i in range(len(data) - 1):\n",
    "    start = (data.loc[i, 'lat'], data.loc[i, 'lon'])\n",
    "    end = (data.loc[i+1, 'lat'], data.loc[i+1, 'lon'])\n",
    "    folium.PolyLine([start, end], color=\"darkblue\").add_to(m)\n",
    "    \n",
    "    # Compute midpoint and distance\n",
    "    midpoint = ((start[0] + end[0]) / 2, (start[1] + end[1]) / 2)\n",
    "    dist = round(distance.distance(start, end).m, 2)  # distance in meters\n",
    "    folium.Marker(midpoint, popup=f\"{dist} m\", icon=folium.Icon(icon=\"arrows-v\", prefix='fa', color='gray')).add_to(m)\n",
    "\n",
    "# Display the map\n",
    "m.save('map.html')"
   ]
  },
  {
   "cell_type": "code",
   "execution_count": null,
   "id": "639004d3",
   "metadata": {},
   "outputs": [],
   "source": []
  }
 ],
 "metadata": {
  "kernelspec": {
   "display_name": "Python 3.9 (tensorflow)",
   "language": "python",
   "name": "tensorflow"
  },
  "language_info": {
   "codemirror_mode": {
    "name": "ipython",
    "version": 3
   },
   "file_extension": ".py",
   "mimetype": "text/x-python",
   "name": "python",
   "nbconvert_exporter": "python",
   "pygments_lexer": "ipython3",
   "version": "3.9.16"
  }
 },
 "nbformat": 4,
 "nbformat_minor": 5
}
