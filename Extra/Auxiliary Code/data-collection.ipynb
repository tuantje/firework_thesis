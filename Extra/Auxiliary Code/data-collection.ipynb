{
 "cells": [
  {
   "cell_type": "code",
   "execution_count": 1,
   "id": "e1bbc109",
   "metadata": {},
   "outputs": [],
   "source": [
    "import pandas as pd\n",
    "\n",
    "# Load the CSV file\n",
    "df = pd.read_csv(r'D:\\scriptie\\sensor_analysis\\CNN-training\\data\\ESC-50-master\\meta\\esc50.csv')\n",
    "\n",
    "\n",
    "\n"
   ]
  },
  {
   "cell_type": "code",
   "execution_count": 2,
   "id": "1c9cae79",
   "metadata": {},
   "outputs": [],
   "source": [
    "# Create lists for each category\n",
    "fireworks = df[df['category'] == 'fireworks']['filename'].tolist()\n",
    "wind = df[df['category'] == 'wind']['filename'].tolist()\n",
    "rain = df[df['category'] == 'rain']['filename'].tolist()"
   ]
  },
  {
   "cell_type": "code",
   "execution_count": 5,
   "id": "7461c0e5",
   "metadata": {
    "scrolled": false
   },
   "outputs": [
    {
     "name": "stdout",
     "output_type": "stream",
     "text": [
      "Fireworks: ['1-115545-A-48.wav', '1-115545-B-48.wav', '1-115545-C-48.wav', '1-115546-A-48.wav', '1-160563-A-48.wav', '1-160563-B-48.wav', '1-25777-A-48.wav', '1-25781-A-48.wav', '2-117615-A-48.wav', '2-117615-B-48.wav', '2-117615-C-48.wav', '2-117615-D-48.wav', '2-117615-E-48.wav', '2-117616-A-48.wav', '2-117617-A-48.wav', '2-165801-A-48.wav', '3-119120-A-48.wav', '3-119120-B-48.wav', '3-119120-C-48.wav', '3-119120-D-48.wav', '3-119120-E-48.wav', '3-172881-A-48.wav', '3-172922-A-48.wav', '3-251617-A-48.wav', '4-119647-A-48.wav', '4-119647-B-48.wav', '4-119647-C-48.wav', '4-119647-D-48.wav', '4-119648-A-48.wav', '4-119648-B-48.wav', '4-119648-C-48.wav', '4-119648-D-48.wav', '5-160614-A-48.wav', '5-160614-B-48.wav', '5-160614-C-48.wav', '5-160614-D-48.wav', '5-160614-E-48.wav', '5-160614-F-48.wav', '5-160614-G-48.wav', '5-160614-H-48.wav']\n",
      "Wind: ['1-137296-A-16.wav', '1-29532-A-16.wav', '1-47709-A-16.wav', '1-47714-A-16.wav', '1-51035-A-16.wav', '1-51036-A-16.wav', '1-51037-A-16.wav', '1-69760-A-16.wav', '2-104952-A-16.wav', '2-104952-B-16.wav', '2-109371-A-16.wav', '2-109371-B-16.wav', '2-109371-C-16.wav', '2-109371-D-16.wav', '2-109374-A-16.wav', '2-205966-A-16.wav', '3-117504-A-16.wav', '3-117504-B-16.wav', '3-134699-A-16.wav', '3-134699-B-16.wav', '3-134699-C-16.wav', '3-136608-A-16.wav', '3-246513-A-16.wav', '3-246513-B-16.wav', '4-144083-A-16.wav', '4-144083-B-16.wav', '4-144083-C-16.wav', '4-144085-A-16.wav', '4-163606-A-16.wav', '4-163608-B-16.wav', '4-163609-A-16.wav', '4-163609-B-16.wav', '5-117773-A-16.wav', '5-157204-A-16.wav', '5-157204-B-16.wav', '5-179496-A-16.wav', '5-179496-B-16.wav', '5-217186-A-16.wav', '5-217186-B-16.wav', '5-217186-C-16.wav']\n",
      "Rain: ['1-17367-A-10.wav', '1-21189-A-10.wav', '1-26222-A-10.wav', '1-29561-A-10.wav', '1-50060-A-10.wav', '1-54958-A-10.wav', '1-56311-A-10.wav', '1-63871-A-10.wav', '2-101676-A-10.wav', '2-117625-A-10.wav', '2-72970-A-10.wav', '2-73027-A-10.wav', '2-73260-A-10.wav', '2-81731-A-10.wav', '2-82367-A-10.wav', '2-87781-A-10.wav', '3-132852-A-10.wav', '3-140774-A-10.wav', '3-142005-A-10.wav', '3-142006-A-10.wav', '3-143929-A-10.wav', '3-157149-A-10.wav', '3-157487-A-10.wav', '3-157615-A-10.wav', '4-160999-A-10.wav', '4-161127-A-10.wav', '4-163264-A-10.wav', '4-164206-A-10.wav', '4-166661-A-10.wav', '4-177250-A-10.wav', '4-180380-A-10.wav', '4-181286-A-10.wav', '5-181766-A-10.wav', '5-188655-A-10.wav', '5-193339-A-10.wav', '5-194892-A-10.wav', '5-195710-A-10.wav', '5-198321-A-10.wav', '5-202898-A-10.wav', '5-203739-A-10.wav']\n",
      "40\n",
      "40\n",
      "40\n"
     ]
    }
   ],
   "source": [
    "# Print the lists to verify the results\n",
    "print('Fireworks:', fireworks)\n",
    "print('Wind:', wind)\n",
    "print('Rain:', rain)\n",
    "print(len(fireworks))\n",
    "print(len(wind))\n",
    "print(len(rain))"
   ]
  },
  {
   "cell_type": "code",
   "execution_count": 8,
   "id": "7e7a054f",
   "metadata": {},
   "outputs": [],
   "source": [
    "import shutil\n",
    "import os\n",
    "\n",
    "source_dir = r'D:\\scriptie\\sensor_analysis\\CNN-training\\data\\ESC-50-master\\audio'\n",
    "target_dir_fireworks = r'D:\\scriptie\\sensor_analysis\\CNN-training\\data\\fireworks'\n",
    "target_dir_wind = r'D:\\scriptie\\sensor_analysis\\CNN-training\\data\\wind'\n",
    "target_dir_rain = r'D:\\scriptie\\sensor_analysis\\CNN-training\\data\\rain'\n",
    "\n",
    "# Make sure the target directories exist\n",
    "os.makedirs(target_dir_fireworks, exist_ok=True)\n",
    "os.makedirs(target_dir_wind, exist_ok=True)\n",
    "os.makedirs(target_dir_rain, exist_ok=True)\n",
    "\n"
   ]
  },
  {
   "cell_type": "code",
   "execution_count": 9,
   "id": "34d2085a",
   "metadata": {},
   "outputs": [],
   "source": [
    "# Copy files for each category\n",
    "for file in fireworks:\n",
    "    shutil.copy(os.path.join(source_dir, file), target_dir_fireworks)\n",
    "    \n",
    "for file in wind:\n",
    "    shutil.copy(os.path.join(source_dir, file), target_dir_wind)\n",
    "    \n",
    "for file in rain:\n",
    "    shutil.copy(os.path.join(source_dir, file), target_dir_rain)\n"
   ]
  },
  {
   "cell_type": "code",
   "execution_count": null,
   "id": "dbc50922",
   "metadata": {},
   "outputs": [],
   "source": []
  }
 ],
 "metadata": {
  "kernelspec": {
   "display_name": "Python 3.9 (tensorflow)",
   "language": "python",
   "name": "tensorflow"
  },
  "language_info": {
   "codemirror_mode": {
    "name": "ipython",
    "version": 3
   },
   "file_extension": ".py",
   "mimetype": "text/x-python",
   "name": "python",
   "nbconvert_exporter": "python",
   "pygments_lexer": "ipython3",
   "version": "3.9.16"
  }
 },
 "nbformat": 4,
 "nbformat_minor": 5
}
