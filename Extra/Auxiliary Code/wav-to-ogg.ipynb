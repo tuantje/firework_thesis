{
 "cells": [
  {
   "cell_type": "code",
   "execution_count": 1,
   "id": "da1edad2",
   "metadata": {},
   "outputs": [],
   "source": [
    "from pydub import AudioSegment\n",
    "import os\n",
    "\n",
    "# directories for wav files\n",
    "dirs_wav = [\n",
    "    \"D:\\\\scriptie\\\\sensor_analysis\\\\CNN-training\\\\data\\\\fireworks1\",\n",
    "    \"D:\\\\scriptie\\\\sensor_analysis\\\\CNN-training\\\\data\\\\fireworks5\",\n",
    "    \"D:\\\\scriptie\\\\sensor_analysis\\\\CNN-training\\\\data\\\\rain1\",\n",
    "    \"D:\\\\scriptie\\\\sensor_analysis\\\\CNN-training\\\\data\\\\rain5\",\n",
    "    \"D:\\\\scriptie\\\\sensor_analysis\\\\CNN-training\\\\data\\\\wind1\",\n",
    "    \"D:\\\\scriptie\\\\sensor_analysis\\\\CNN-training\\\\data\\\\wind5\",\n",
    "]\n",
    "\n",
    "# corresponding directories for ogg files\n",
    "dirs_ogg = [\n",
    "    \"D:\\\\scriptie\\\\sensor_analysis\\\\CNN-training\\\\data\\\\fireworks1-ogg\",\n",
    "    \"D:\\\\scriptie\\\\sensor_analysis\\\\CNN-training\\\\data\\\\fireworks5-ogg\",\n",
    "    \"D:\\\\scriptie\\\\sensor_analysis\\\\CNN-training\\\\data\\\\rain1-ogg\",\n",
    "    \"D:\\\\scriptie\\\\sensor_analysis\\\\CNN-training\\\\data\\\\rain5-ogg\",\n",
    "    \"D:\\\\scriptie\\\\sensor_analysis\\\\CNN-training\\\\data\\\\wind1-ogg\",\n",
    "    \"D:\\\\scriptie\\\\sensor_analysis\\\\CNN-training\\\\data\\\\wind5-ogg\",\n",
    "]\n",
    "\n",
    "\n"
   ]
  },
  {
   "cell_type": "code",
   "execution_count": 2,
   "id": "5f8a8fcf",
   "metadata": {},
   "outputs": [],
   "source": [
    "for i in range(len(dirs_wav)):\n",
    "    if not os.path.exists(dirs_ogg[i]):\n",
    "        os.makedirs(dirs_ogg[i])\n",
    "    for filename in os.listdir(dirs_wav[i]):\n",
    "        if filename.endswith(\".wav\"):  # check if it's a .wav file\n",
    "            audio = AudioSegment.from_wav(os.path.join(dirs_wav[i], filename))\n",
    "            audio.export(os.path.join(dirs_ogg[i], filename[:-4] + \".ogg\"), format=\"ogg\")  "
   ]
  },
  {
   "cell_type": "code",
   "execution_count": null,
   "id": "eeb6012c",
   "metadata": {},
   "outputs": [],
   "source": []
  }
 ],
 "metadata": {
  "kernelspec": {
   "display_name": "Python 3.9 (tensorflow)",
   "language": "python",
   "name": "tensorflow"
  },
  "language_info": {
   "codemirror_mode": {
    "name": "ipython",
    "version": 3
   },
   "file_extension": ".py",
   "mimetype": "text/x-python",
   "name": "python",
   "nbconvert_exporter": "python",
   "pygments_lexer": "ipython3",
   "version": "3.9.16"
  }
 },
 "nbformat": 4,
 "nbformat_minor": 5
}
