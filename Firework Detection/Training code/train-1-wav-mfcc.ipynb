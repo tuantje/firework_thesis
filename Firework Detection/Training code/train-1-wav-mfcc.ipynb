{
 "cells": [
  {
   "cell_type": "code",
   "execution_count": 1,
   "id": "361dad26",
   "metadata": {},
   "outputs": [],
   "source": [
    "import os\n",
    "import numpy as np\n",
    "from tensorflow.keras.models import Sequential\n",
    "from tensorflow.keras.layers import Dense, Dropout, Conv1D, MaxPooling1D, GlobalAveragePooling1D, Flatten\n",
    "from sklearn.model_selection import train_test_split\n",
    "from tensorflow.keras.utils import to_categorical\n",
    "from sklearn.preprocessing import LabelEncoder\n",
    "from tensorflow.keras.optimizers import Adam\n",
    "import librosa \n",
    "from tensorflow.keras.models import Sequential\n",
    "from tensorflow.keras.layers import Dense, Dropout, Activation, Flatten\n",
    "from tensorflow.keras.layers import Convolution1D, MaxPooling1D\n",
    "\n",
    "# Define the path for your 1 second audio files\n",
    "fireworks_dir = \"D:/scriptie/sensor_analysis/CNN-training/data/fireworks1\"\n",
    "rain_dir = \"D:/scriptie/sensor_analysis/CNN-training/data/rain1\"\n",
    "wind_dir = \"D:/scriptie/sensor_analysis/CNN-training/data/wind1\"\n",
    "\n",
    "\n"
   ]
  },
  {
   "cell_type": "code",
   "execution_count": 2,
   "id": "a47209e2",
   "metadata": {},
   "outputs": [],
   "source": [
    "# Load the data\n",
    "data = []\n",
    "labels = []\n",
    "\n",
    "for f in os.listdir(fireworks_dir):\n",
    "    sound_clip,sr = librosa.load(os.path.join(fireworks_dir, f))\n",
    "    mfcc = librosa.feature.mfcc(y=sound_clip, sr=sr, n_mfcc=40)\n",
    "    mfccs_processed = np.mean(mfcc.T,axis=0)\n",
    "    data.append(mfccs_processed)\n",
    "    labels.append(\"fireworks\")\n",
    "\n",
    "for f in os.listdir(rain_dir):\n",
    "    sound_clip,sr = librosa.load(os.path.join(rain_dir, f))\n",
    "    mfcc = librosa.feature.mfcc(y=sound_clip, sr=sr, n_mfcc=40)\n",
    "    mfccs_processed = np.mean(mfcc.T,axis=0)\n",
    "    data.append(mfccs_processed)\n",
    "    labels.append(\"rain\")\n",
    "\n",
    "for f in os.listdir(wind_dir):\n",
    "    sound_clip,sr = librosa.load(os.path.join(wind_dir, f))\n",
    "    mfcc = librosa.feature.mfcc(y=sound_clip, sr=sr, n_mfcc=40)\n",
    "    mfccs_processed = np.mean(mfcc.T,axis=0)\n",
    "    data.append(mfccs_processed)\n",
    "    labels.append(\"wind\")\n",
    "\n"
   ]
  },
  {
   "cell_type": "code",
   "execution_count": 3,
   "id": "b09d2ae2",
   "metadata": {},
   "outputs": [],
   "source": [
    "# Convert data and labels to numpy arrays\n",
    "data = np.array(data)\n",
    "labels = np.array(labels)\n",
    "\n",
    "# Encode labels to integers\n",
    "le = LabelEncoder()\n",
    "y = to_categorical(le.fit_transform(labels))\n",
    "\n",
    "\n",
    "\n"
   ]
  },
  {
   "cell_type": "code",
   "execution_count": 4,
   "id": "49212938",
   "metadata": {},
   "outputs": [
    {
     "data": {
      "text/plain": [
       "array([[-2.8798938e+02,  1.5416052e+02, -4.1431076e+01, ...,\n",
       "        -6.3256842e-01, -3.6440139e+00,  1.1721566e+00],\n",
       "       [-3.6008942e+02,  1.3011470e+02, -5.5922619e+01, ...,\n",
       "         9.2010915e-01, -1.7134011e+00,  1.6599959e+00],\n",
       "       [-5.3130328e+02,  1.8298308e+02, -9.8676949e+00, ...,\n",
       "         2.0966678e+00, -1.6163479e+00,  1.2407779e+00],\n",
       "       ...,\n",
       "       [-2.1475992e+02,  2.0524623e+02, -7.7344462e-02, ...,\n",
       "         6.0647106e-01, -3.0317602e+00, -8.3849722e-01],\n",
       "       [-2.2383194e+02,  2.0685716e+02,  4.4406099e+00, ...,\n",
       "         6.2225169e-01, -1.5964386e+00,  2.3632218e-01],\n",
       "       [-2.4207266e+02,  2.0488597e+02,  1.4659313e+01, ...,\n",
       "         9.0404379e-01, -2.2471735e+00,  7.9948479e-01]], dtype=float32)"
      ]
     },
     "execution_count": 4,
     "metadata": {},
     "output_type": "execute_result"
    }
   ],
   "source": [
    "data"
   ]
  },
  {
   "cell_type": "code",
   "execution_count": 5,
   "id": "3d27041a",
   "metadata": {},
   "outputs": [],
   "source": [
    "# Split the data into training and testing sets\n",
    "x_train, x_test, y_train, y_test = train_test_split(data, y, test_size=0.3, random_state=42)\n",
    "\n",
    "num_labels = 3\n",
    "\n"
   ]
  },
  {
   "cell_type": "code",
   "execution_count": 6,
   "id": "e53ffb1b",
   "metadata": {},
   "outputs": [],
   "source": [
    "# Build model\n",
    "model = Sequential()\n",
    "\n",
    "model.add(Convolution1D(128, 5, padding='same', input_shape=(40, 1)))  # Adjust input shape if necessary\n",
    "model.add(Activation('relu'))\n",
    "model.add(Dropout(0.5))\n",
    "model.add(MaxPooling1D(pool_size=(8)))\n",
    "model.add(Convolution1D(128, 5, padding='same'))\n",
    "model.add(Activation('relu'))\n",
    "model.add(Dropout(0.5))\n",
    "model.add(Flatten())\n",
    "model.add(Dense(num_labels))\n",
    "model.add(Activation('softmax'))"
   ]
  },
  {
   "cell_type": "code",
   "execution_count": 7,
   "id": "0b57bd5a",
   "metadata": {},
   "outputs": [],
   "source": [
    "# Compile the model\n",
    "model.compile(loss='categorical_crossentropy', metrics=['accuracy'], optimizer='adam')\n",
    "\n"
   ]
  },
  {
   "cell_type": "code",
   "execution_count": 8,
   "id": "80d8a7ab",
   "metadata": {},
   "outputs": [
    {
     "name": "stdout",
     "output_type": "stream",
     "text": [
      "Epoch 1/100\n",
      "52/52 [==============================] - 6s 26ms/step - loss: 5.3636 - accuracy: 0.4834 - val_loss: 1.9780 - val_accuracy: 0.5205\n",
      "Epoch 2/100\n",
      "52/52 [==============================] - 1s 24ms/step - loss: 2.2369 - accuracy: 0.5851 - val_loss: 0.5837 - val_accuracy: 0.7671\n",
      "Epoch 3/100\n",
      "52/52 [==============================] - 1s 26ms/step - loss: 1.2422 - accuracy: 0.6477 - val_loss: 0.6266 - val_accuracy: 0.7534\n",
      "Epoch 4/100\n",
      "52/52 [==============================] - 1s 16ms/step - loss: 0.7414 - accuracy: 0.7084 - val_loss: 0.5789 - val_accuracy: 0.7626\n",
      "Epoch 5/100\n",
      "52/52 [==============================] - 1s 13ms/step - loss: 0.6812 - accuracy: 0.7339 - val_loss: 0.5129 - val_accuracy: 0.8447\n",
      "Epoch 6/100\n",
      "52/52 [==============================] - 1s 19ms/step - loss: 0.6118 - accuracy: 0.7358 - val_loss: 0.5028 - val_accuracy: 0.8082\n",
      "Epoch 7/100\n",
      "52/52 [==============================] - 1s 25ms/step - loss: 0.5827 - accuracy: 0.7534 - val_loss: 0.6154 - val_accuracy: 0.7717\n",
      "Epoch 8/100\n",
      "52/52 [==============================] - 1s 16ms/step - loss: 0.5877 - accuracy: 0.7789 - val_loss: 0.5014 - val_accuracy: 0.8630\n",
      "Epoch 9/100\n",
      "52/52 [==============================] - 1s 15ms/step - loss: 0.5145 - accuracy: 0.7847 - val_loss: 0.4730 - val_accuracy: 0.8630\n",
      "Epoch 10/100\n",
      "52/52 [==============================] - 1s 13ms/step - loss: 0.4403 - accuracy: 0.8239 - val_loss: 0.4503 - val_accuracy: 0.8630\n",
      "Epoch 11/100\n",
      "52/52 [==============================] - 0s 9ms/step - loss: 0.4688 - accuracy: 0.8160 - val_loss: 0.4322 - val_accuracy: 0.8813\n",
      "Epoch 12/100\n",
      "52/52 [==============================] - 0s 9ms/step - loss: 0.4327 - accuracy: 0.8356 - val_loss: 0.4673 - val_accuracy: 0.8219\n",
      "Epoch 13/100\n",
      "52/52 [==============================] - 0s 9ms/step - loss: 0.3820 - accuracy: 0.8415 - val_loss: 0.4611 - val_accuracy: 0.8813\n",
      "Epoch 14/100\n",
      "52/52 [==============================] - 0s 9ms/step - loss: 0.3862 - accuracy: 0.8513 - val_loss: 0.4724 - val_accuracy: 0.8721\n",
      "Epoch 15/100\n",
      "52/52 [==============================] - 1s 12ms/step - loss: 0.3542 - accuracy: 0.8689 - val_loss: 0.3952 - val_accuracy: 0.8950\n",
      "Epoch 16/100\n",
      "52/52 [==============================] - 1s 18ms/step - loss: 0.3861 - accuracy: 0.8630 - val_loss: 0.3998 - val_accuracy: 0.8539\n",
      "Epoch 17/100\n",
      "52/52 [==============================] - 0s 9ms/step - loss: 0.3260 - accuracy: 0.8806 - val_loss: 0.3713 - val_accuracy: 0.8813\n",
      "Epoch 18/100\n",
      "52/52 [==============================] - 0s 9ms/step - loss: 0.3652 - accuracy: 0.8591 - val_loss: 0.3790 - val_accuracy: 0.8950\n",
      "Epoch 19/100\n",
      "52/52 [==============================] - 1s 11ms/step - loss: 0.3476 - accuracy: 0.8630 - val_loss: 0.3716 - val_accuracy: 0.9132\n",
      "Epoch 20/100\n",
      "52/52 [==============================] - 1s 20ms/step - loss: 0.3408 - accuracy: 0.8669 - val_loss: 0.3202 - val_accuracy: 0.9087\n",
      "Epoch 21/100\n",
      "52/52 [==============================] - 1s 13ms/step - loss: 0.2860 - accuracy: 0.8865 - val_loss: 0.3631 - val_accuracy: 0.8950\n",
      "Epoch 22/100\n",
      "52/52 [==============================] - 1s 13ms/step - loss: 0.2924 - accuracy: 0.8904 - val_loss: 0.3630 - val_accuracy: 0.8858\n",
      "Epoch 23/100\n",
      "52/52 [==============================] - 1s 18ms/step - loss: 0.3073 - accuracy: 0.8963 - val_loss: 0.3498 - val_accuracy: 0.8995\n",
      "Epoch 24/100\n",
      "52/52 [==============================] - 1s 18ms/step - loss: 0.2969 - accuracy: 0.8826 - val_loss: 0.3256 - val_accuracy: 0.9224\n",
      "Epoch 25/100\n",
      "52/52 [==============================] - 0s 9ms/step - loss: 0.2933 - accuracy: 0.8904 - val_loss: 0.3789 - val_accuracy: 0.9178\n",
      "Epoch 26/100\n",
      "52/52 [==============================] - 0s 10ms/step - loss: 0.2853 - accuracy: 0.9022 - val_loss: 0.3224 - val_accuracy: 0.9132\n",
      "Epoch 27/100\n",
      "52/52 [==============================] - 0s 9ms/step - loss: 0.2806 - accuracy: 0.8904 - val_loss: 0.3076 - val_accuracy: 0.9178\n",
      "Epoch 28/100\n",
      "52/52 [==============================] - 0s 9ms/step - loss: 0.2872 - accuracy: 0.8904 - val_loss: 0.3053 - val_accuracy: 0.8904\n",
      "Epoch 29/100\n",
      "52/52 [==============================] - 0s 9ms/step - loss: 0.3111 - accuracy: 0.8845 - val_loss: 0.3331 - val_accuracy: 0.9178\n",
      "Epoch 30/100\n",
      "52/52 [==============================] - 0s 9ms/step - loss: 0.2464 - accuracy: 0.9139 - val_loss: 0.3240 - val_accuracy: 0.9224\n",
      "Epoch 31/100\n",
      "52/52 [==============================] - 0s 10ms/step - loss: 0.2422 - accuracy: 0.9061 - val_loss: 0.3564 - val_accuracy: 0.9178\n",
      "Epoch 32/100\n",
      "52/52 [==============================] - 0s 9ms/step - loss: 0.2175 - accuracy: 0.9217 - val_loss: 0.3843 - val_accuracy: 0.9132\n",
      "Epoch 33/100\n",
      "52/52 [==============================] - 1s 11ms/step - loss: 0.2455 - accuracy: 0.9119 - val_loss: 0.3965 - val_accuracy: 0.9132\n",
      "Epoch 34/100\n",
      "52/52 [==============================] - 1s 18ms/step - loss: 0.2904 - accuracy: 0.8982 - val_loss: 0.3372 - val_accuracy: 0.9224\n",
      "Epoch 35/100\n",
      "52/52 [==============================] - 1s 12ms/step - loss: 0.1838 - accuracy: 0.9315 - val_loss: 0.3306 - val_accuracy: 0.9178\n",
      "Epoch 36/100\n",
      "52/52 [==============================] - 0s 9ms/step - loss: 0.2244 - accuracy: 0.9256 - val_loss: 0.3414 - val_accuracy: 0.9132\n",
      "Epoch 37/100\n",
      "52/52 [==============================] - 0s 10ms/step - loss: 0.2486 - accuracy: 0.8963 - val_loss: 0.3879 - val_accuracy: 0.9041\n",
      "Epoch 38/100\n",
      "52/52 [==============================] - 1s 13ms/step - loss: 0.2275 - accuracy: 0.9178 - val_loss: 0.3443 - val_accuracy: 0.9269\n",
      "Epoch 39/100\n",
      "52/52 [==============================] - 1s 14ms/step - loss: 0.2095 - accuracy: 0.9080 - val_loss: 0.2874 - val_accuracy: 0.9361\n",
      "Epoch 40/100\n",
      "52/52 [==============================] - 1s 16ms/step - loss: 0.2056 - accuracy: 0.9256 - val_loss: 0.3438 - val_accuracy: 0.9269\n",
      "Epoch 41/100\n",
      "52/52 [==============================] - 1s 15ms/step - loss: 0.2103 - accuracy: 0.9139 - val_loss: 0.4208 - val_accuracy: 0.9041\n",
      "Epoch 42/100\n",
      "52/52 [==============================] - 1s 20ms/step - loss: 0.2140 - accuracy: 0.9256 - val_loss: 0.3921 - val_accuracy: 0.9132\n",
      "Epoch 43/100\n",
      "52/52 [==============================] - 1s 19ms/step - loss: 0.1935 - accuracy: 0.9217 - val_loss: 0.3583 - val_accuracy: 0.9269\n",
      "Epoch 44/100\n",
      "52/52 [==============================] - 1s 19ms/step - loss: 0.2164 - accuracy: 0.9413 - val_loss: 0.2438 - val_accuracy: 0.9269\n",
      "Epoch 45/100\n",
      "52/52 [==============================] - 1s 14ms/step - loss: 0.2388 - accuracy: 0.9237 - val_loss: 0.2959 - val_accuracy: 0.9178\n",
      "Epoch 46/100\n",
      "52/52 [==============================] - 1s 15ms/step - loss: 0.1761 - accuracy: 0.9393 - val_loss: 0.2746 - val_accuracy: 0.9315\n",
      "Epoch 47/100\n",
      "52/52 [==============================] - 1s 18ms/step - loss: 0.1989 - accuracy: 0.9354 - val_loss: 0.3438 - val_accuracy: 0.9041\n",
      "Epoch 48/100\n",
      "52/52 [==============================] - 1s 16ms/step - loss: 0.1832 - accuracy: 0.9472 - val_loss: 0.3038 - val_accuracy: 0.9269\n",
      "Epoch 49/100\n",
      "52/52 [==============================] - 1s 15ms/step - loss: 0.2052 - accuracy: 0.9295 - val_loss: 0.3835 - val_accuracy: 0.8904\n",
      "Epoch 50/100\n",
      "52/52 [==============================] - 1s 28ms/step - loss: 0.3241 - accuracy: 0.8982 - val_loss: 0.3617 - val_accuracy: 0.9087\n",
      "Epoch 51/100\n",
      "52/52 [==============================] - 1s 29ms/step - loss: 0.2191 - accuracy: 0.9178 - val_loss: 0.3361 - val_accuracy: 0.9315\n",
      "Epoch 52/100\n",
      "52/52 [==============================] - 1s 19ms/step - loss: 0.2095 - accuracy: 0.9295 - val_loss: 0.3339 - val_accuracy: 0.9269\n",
      "Epoch 53/100\n",
      "52/52 [==============================] - 1s 17ms/step - loss: 0.1554 - accuracy: 0.9550 - val_loss: 0.3184 - val_accuracy: 0.9269\n",
      "Epoch 54/100\n",
      "52/52 [==============================] - 1s 12ms/step - loss: 0.2010 - accuracy: 0.9256 - val_loss: 0.2605 - val_accuracy: 0.9269\n",
      "Epoch 55/100\n",
      "52/52 [==============================] - 1s 11ms/step - loss: 0.2427 - accuracy: 0.9295 - val_loss: 0.2972 - val_accuracy: 0.9178\n",
      "Epoch 56/100\n",
      "52/52 [==============================] - 1s 13ms/step - loss: 0.2132 - accuracy: 0.9139 - val_loss: 0.2851 - val_accuracy: 0.9361\n",
      "Epoch 57/100\n",
      "52/52 [==============================] - 1s 12ms/step - loss: 0.2283 - accuracy: 0.9237 - val_loss: 0.4005 - val_accuracy: 0.9132\n",
      "Epoch 58/100\n"
     ]
    },
    {
     "name": "stdout",
     "output_type": "stream",
     "text": [
      "52/52 [==============================] - 1s 12ms/step - loss: 0.2299 - accuracy: 0.9217 - val_loss: 0.3664 - val_accuracy: 0.9269\n",
      "Epoch 59/100\n",
      "52/52 [==============================] - 1s 21ms/step - loss: 0.1697 - accuracy: 0.9393 - val_loss: 0.2679 - val_accuracy: 0.9315\n",
      "Epoch 60/100\n",
      "52/52 [==============================] - 1s 18ms/step - loss: 0.1642 - accuracy: 0.9452 - val_loss: 0.3107 - val_accuracy: 0.9361\n",
      "Epoch 61/100\n",
      "52/52 [==============================] - 1s 26ms/step - loss: 0.1184 - accuracy: 0.9511 - val_loss: 0.2955 - val_accuracy: 0.9406\n",
      "Epoch 62/100\n",
      "52/52 [==============================] - 1s 21ms/step - loss: 0.1578 - accuracy: 0.9589 - val_loss: 0.3172 - val_accuracy: 0.9406\n",
      "Epoch 63/100\n",
      "52/52 [==============================] - 1s 26ms/step - loss: 0.1418 - accuracy: 0.9472 - val_loss: 0.3105 - val_accuracy: 0.9406\n",
      "Epoch 64/100\n",
      "52/52 [==============================] - 1s 22ms/step - loss: 0.1407 - accuracy: 0.9550 - val_loss: 0.3441 - val_accuracy: 0.9406\n",
      "Epoch 65/100\n",
      "52/52 [==============================] - 1s 18ms/step - loss: 0.1959 - accuracy: 0.9335 - val_loss: 0.3428 - val_accuracy: 0.9361\n",
      "Epoch 66/100\n",
      "52/52 [==============================] - 1s 13ms/step - loss: 0.2437 - accuracy: 0.9159 - val_loss: 0.3356 - val_accuracy: 0.9178\n",
      "Epoch 67/100\n",
      "52/52 [==============================] - 1s 12ms/step - loss: 0.1926 - accuracy: 0.9354 - val_loss: 0.4036 - val_accuracy: 0.8995\n",
      "Epoch 68/100\n",
      "52/52 [==============================] - 1s 11ms/step - loss: 0.2133 - accuracy: 0.9198 - val_loss: 0.3405 - val_accuracy: 0.9452\n",
      "Epoch 69/100\n",
      "52/52 [==============================] - 1s 10ms/step - loss: 0.2066 - accuracy: 0.9315 - val_loss: 0.2955 - val_accuracy: 0.9406\n",
      "Epoch 70/100\n",
      "52/52 [==============================] - 1s 11ms/step - loss: 0.1902 - accuracy: 0.9335 - val_loss: 0.3126 - val_accuracy: 0.9269\n",
      "Epoch 71/100\n",
      "52/52 [==============================] - 1s 12ms/step - loss: 0.2085 - accuracy: 0.9256 - val_loss: 0.3369 - val_accuracy: 0.9315\n",
      "Epoch 72/100\n",
      "52/52 [==============================] - 1s 11ms/step - loss: 0.1468 - accuracy: 0.9374 - val_loss: 0.4111 - val_accuracy: 0.9361\n",
      "Epoch 73/100\n",
      "52/52 [==============================] - 1s 11ms/step - loss: 0.1572 - accuracy: 0.9511 - val_loss: 0.4055 - val_accuracy: 0.9315\n",
      "Epoch 74/100\n",
      "52/52 [==============================] - 1s 12ms/step - loss: 0.1619 - accuracy: 0.9413 - val_loss: 0.3650 - val_accuracy: 0.9361\n",
      "Epoch 75/100\n",
      "52/52 [==============================] - 1s 11ms/step - loss: 0.1818 - accuracy: 0.9413 - val_loss: 0.3046 - val_accuracy: 0.9406\n",
      "Epoch 76/100\n",
      "52/52 [==============================] - 1s 12ms/step - loss: 0.0987 - accuracy: 0.9765 - val_loss: 0.3116 - val_accuracy: 0.9406\n",
      "Epoch 77/100\n",
      "52/52 [==============================] - 1s 12ms/step - loss: 0.1388 - accuracy: 0.9569 - val_loss: 0.5092 - val_accuracy: 0.9132\n",
      "Epoch 78/100\n",
      "52/52 [==============================] - 1s 14ms/step - loss: 0.1723 - accuracy: 0.9491 - val_loss: 0.4181 - val_accuracy: 0.9041\n",
      "Epoch 79/100\n",
      "52/52 [==============================] - 1s 14ms/step - loss: 0.1602 - accuracy: 0.9413 - val_loss: 0.3254 - val_accuracy: 0.9361\n",
      "Epoch 80/100\n",
      "52/52 [==============================] - 1s 22ms/step - loss: 0.1531 - accuracy: 0.9354 - val_loss: 0.3669 - val_accuracy: 0.9406\n",
      "Epoch 81/100\n",
      "52/52 [==============================] - 1s 13ms/step - loss: 0.2399 - accuracy: 0.9295 - val_loss: 0.5008 - val_accuracy: 0.9132\n",
      "Epoch 82/100\n",
      "52/52 [==============================] - 1s 10ms/step - loss: 0.1465 - accuracy: 0.9452 - val_loss: 0.3933 - val_accuracy: 0.9315\n",
      "Epoch 83/100\n",
      "52/52 [==============================] - 1s 11ms/step - loss: 0.1352 - accuracy: 0.9569 - val_loss: 0.3975 - val_accuracy: 0.9041\n",
      "Epoch 84/100\n",
      "52/52 [==============================] - 1s 12ms/step - loss: 0.1408 - accuracy: 0.9609 - val_loss: 0.3509 - val_accuracy: 0.9315\n",
      "Epoch 85/100\n",
      "52/52 [==============================] - 1s 11ms/step - loss: 0.1077 - accuracy: 0.9609 - val_loss: 0.3200 - val_accuracy: 0.9315\n",
      "Epoch 86/100\n",
      "52/52 [==============================] - 1s 12ms/step - loss: 0.1358 - accuracy: 0.9569 - val_loss: 0.3802 - val_accuracy: 0.9132\n",
      "Epoch 87/100\n",
      "52/52 [==============================] - 1s 11ms/step - loss: 0.2368 - accuracy: 0.9256 - val_loss: 0.2934 - val_accuracy: 0.9269\n",
      "Epoch 88/100\n",
      "52/52 [==============================] - 1s 14ms/step - loss: 0.2071 - accuracy: 0.9139 - val_loss: 0.2366 - val_accuracy: 0.9041\n",
      "Epoch 89/100\n",
      "52/52 [==============================] - 1s 17ms/step - loss: 0.1518 - accuracy: 0.9452 - val_loss: 0.3013 - val_accuracy: 0.8995\n",
      "Epoch 90/100\n",
      "52/52 [==============================] - 1s 12ms/step - loss: 0.1715 - accuracy: 0.9472 - val_loss: 0.2944 - val_accuracy: 0.9406\n",
      "Epoch 91/100\n",
      "52/52 [==============================] - 1s 11ms/step - loss: 0.1274 - accuracy: 0.9432 - val_loss: 0.3623 - val_accuracy: 0.9132\n",
      "Epoch 92/100\n",
      "52/52 [==============================] - 1s 11ms/step - loss: 0.1064 - accuracy: 0.9609 - val_loss: 0.3092 - val_accuracy: 0.9361\n",
      "Epoch 93/100\n",
      "52/52 [==============================] - 1s 13ms/step - loss: 0.1162 - accuracy: 0.9569 - val_loss: 0.4348 - val_accuracy: 0.9132\n",
      "Epoch 94/100\n",
      "52/52 [==============================] - 1s 12ms/step - loss: 0.1899 - accuracy: 0.9393 - val_loss: 0.3309 - val_accuracy: 0.9178\n",
      "Epoch 95/100\n",
      "52/52 [==============================] - 1s 15ms/step - loss: 0.1395 - accuracy: 0.9530 - val_loss: 0.3943 - val_accuracy: 0.9224\n",
      "Epoch 96/100\n",
      "52/52 [==============================] - 1s 10ms/step - loss: 0.1595 - accuracy: 0.9472 - val_loss: 0.3724 - val_accuracy: 0.9132\n",
      "Epoch 97/100\n",
      "52/52 [==============================] - 1s 10ms/step - loss: 0.1313 - accuracy: 0.9432 - val_loss: 0.6057 - val_accuracy: 0.8950\n",
      "Epoch 98/100\n",
      "52/52 [==============================] - 1s 11ms/step - loss: 0.1147 - accuracy: 0.9569 - val_loss: 0.3822 - val_accuracy: 0.9178\n",
      "Epoch 99/100\n",
      "52/52 [==============================] - 1s 11ms/step - loss: 0.1152 - accuracy: 0.9648 - val_loss: 0.3924 - val_accuracy: 0.9406\n",
      "Epoch 100/100\n",
      "52/52 [==============================] - 1s 11ms/step - loss: 0.1121 - accuracy: 0.9550 - val_loss: 0.4336 - val_accuracy: 0.9178\n"
     ]
    }
   ],
   "source": [
    "# Fit the model\n",
    "history = model.fit(x_train, y_train, batch_size=10, epochs=100, validation_data=(x_test, y_test))\n",
    "\n"
   ]
  },
  {
   "cell_type": "code",
   "execution_count": 9,
   "id": "66e27468",
   "metadata": {},
   "outputs": [
    {
     "name": "stdout",
     "output_type": "stream",
     "text": [
      "7/7 [==============================] - 0s 15ms/step - loss: 0.4336 - accuracy: 0.9178\n",
      "Test set accuracy: 91.78082346916199%\n"
     ]
    }
   ],
   "source": [
    "loss, accuracy = model.evaluate(x_test, y_test)\n",
    "print(f\"Test set accuracy: {accuracy * 100}%\")\n"
   ]
  },
  {
   "cell_type": "code",
   "execution_count": 10,
   "id": "14cba236",
   "metadata": {},
   "outputs": [
    {
     "data": {
      "image/png": "[encoded data removed]",
      "text/plain": [
       "<Figure size 1200x400 with 2 Axes>"
      ]
     },
     "metadata": {},
     "output_type": "display_data"
    }
   ],
   "source": [
    "import matplotlib.pyplot as plt\n",
    "\n",
    "# Plot training & validation accuracy values\n",
    "plt.figure(figsize=(12, 4))\n",
    "plt.subplot(1, 2, 1)\n",
    "plt.plot(history.history['accuracy'])\n",
    "plt.plot(history.history['val_accuracy'])\n",
    "plt.title('Model accuracy')\n",
    "plt.ylabel('Accuracy')\n",
    "plt.xlabel('Epoch')\n",
    "plt.legend(['Train', 'Test'], loc='upper left')\n",
    "\n",
    "# Plot training & validation loss values\n",
    "plt.subplot(1, 2, 2)\n",
    "plt.plot(history.history['loss'])\n",
    "plt.plot(history.history['val_loss'])\n",
    "plt.title('Model loss')\n",
    "plt.ylabel('Loss')\n",
    "plt.xlabel('Epoch')\n",
    "plt.legend(['Train', 'Test'], loc='upper left')\n",
    "\n",
    "plt.tight_layout()\n",
    "plt.show()"
   ]
  },
  {
   "cell_type": "code",
   "execution_count": 11,
   "id": "8a4e9d69",
   "metadata": {},
   "outputs": [
    {
     "name": "stdout",
     "output_type": "stream",
     "text": [
      "7/7 [==============================] - 0s 4ms/step\n",
      "              precision    recall  f1-score   support\n",
      "\n",
      "           0       0.93      0.96      0.95       104\n",
      "           1       0.96      0.79      0.87        66\n",
      "           2       0.84      1.00      0.92        49\n",
      "\n",
      "    accuracy                           0.92       219\n",
      "   macro avg       0.91      0.92      0.91       219\n",
      "weighted avg       0.92      0.92      0.92       219\n",
      "\n"
     ]
    },
    {
     "data": {
      "image/png": "[encoded data removed]",
      "text/plain": [
       "<Figure size 640x480 with 2 Axes>"
      ]
     },
     "metadata": {},
     "output_type": "display_data"
    }
   ],
   "source": [
    "from sklearn.metrics import classification_report, confusion_matrix\n",
    "import seaborn as sns\n",
    "\n",
    "# Make predictions\n",
    "predictions_prob = model.predict(x_test)\n",
    "\n",
    "# Convert predictions classes to one hot vectors \n",
    "predictions = np.argmax(predictions_prob, axis=1) \n",
    "\n",
    "# Convert test set labels to one hot vectors\n",
    "y_test_classes = np.argmax(y_test, axis=1)\n",
    "\n",
    "from sklearn.metrics import classification_report\n",
    "print(classification_report(y_test_classes, predictions))\n",
    "\n",
    "# Compute confusion matrix\n",
    "cm = confusion_matrix(y_test_classes, predictions)\n",
    "\n",
    "# Plot confusion matrix\n",
    "sns.heatmap(cm, annot=True, fmt='d', cmap='Blues')\n",
    "plt.ylabel('True label')\n",
    "plt.xlabel('Predicted label')\n",
    "plt.show()"
   ]
  },
  {
   "cell_type": "code",
   "execution_count": 20,
   "id": "1299e87b",
   "metadata": {},
   "outputs": [
    {
     "name": "stderr",
     "output_type": "stream",
     "text": [
      "WARNING:absl:Found untraced functions such as _jit_compiled_convolution_op, _jit_compiled_convolution_op while saving (showing 2 of 2). These functions will not be directly callable after loading.\n"
     ]
    },
    {
     "name": "stdout",
     "output_type": "stream",
     "text": [
      "INFO:tensorflow:Assets written to: my_model-1-wav-mfcc\\assets\n"
     ]
    },
    {
     "name": "stderr",
     "output_type": "stream",
     "text": [
      "INFO:tensorflow:Assets written to: my_model-1-wav-mfcc\\assets\n"
     ]
    }
   ],
   "source": [
    "# Save the model\n",
    "model.save('my_model-1-wav-mfcc')\n",
    "model.save('my_model-1-wav-mfcc.h5')\n"
   ]
  },
  {
   "cell_type": "code",
   "execution_count": 12,
   "id": "5fa6c402",
   "metadata": {},
   "outputs": [
    {
     "name": "stdout",
     "output_type": "stream",
     "text": [
      "Model: \"sequential\"\n",
      "_________________________________________________________________\n",
      " Layer (type)                Output Shape              Param #   \n",
      "=================================================================\n",
      " conv1d (Conv1D)             (None, 40, 128)           768       \n",
      "                                                                 \n",
      " activation (Activation)     (None, 40, 128)           0         \n",
      "                                                                 \n",
      " dropout (Dropout)           (None, 40, 128)           0         \n",
      "                                                                 \n",
      " max_pooling1d (MaxPooling1D  (None, 5, 128)           0         \n",
      " )                                                               \n",
      "                                                                 \n",
      " conv1d_1 (Conv1D)           (None, 5, 128)            82048     \n",
      "                                                                 \n",
      " activation_1 (Activation)   (None, 5, 128)            0         \n",
      "                                                                 \n",
      " dropout_1 (Dropout)         (None, 5, 128)            0         \n",
      "                                                                 \n",
      " flatten (Flatten)           (None, 640)               0         \n",
      "                                                                 \n",
      " dense (Dense)               (None, 3)                 1923      \n",
      "                                                                 \n",
      " activation_2 (Activation)   (None, 3)                 0         \n",
      "                                                                 \n",
      "=================================================================\n",
      "Total params: 84,739\n",
      "Trainable params: 84,739\n",
      "Non-trainable params: 0\n",
      "_________________________________________________________________\n"
     ]
    }
   ],
   "source": [
    "model.summary()"
   ]
  },
  {
   "cell_type": "code",
   "execution_count": null,
   "id": "b7ef52bd",
   "metadata": {},
   "outputs": [],
   "source": []
  }
 ],
 "metadata": {
  "kernelspec": {
   "display_name": "Python 3.9 (tensorflow)",
   "language": "python",
   "name": "tensorflow"
  },
  "language_info": {
   "codemirror_mode": {
    "name": "ipython",
    "version": 3
   },
   "file_extension": ".py",
   "mimetype": "text/x-python",
   "name": "python",
   "nbconvert_exporter": "python",
   "pygments_lexer": "ipython3",
   "version": "3.9.16"
  }
 },
 "nbformat": 4,
 "nbformat_minor": 5
}
