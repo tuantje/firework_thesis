{
 "cells": [
  {
   "cell_type": "code",
   "execution_count": 2,
   "id": "429089d9",
   "metadata": {},
   "outputs": [
    {
     "name": "stdout",
     "output_type": "stream",
     "text": [
      "RMS value for sensor1: 0.17487179\n",
      "RMS value for sensor2: 0.09522392\n",
      "The intensity at sensor 2 is 54.45% of the intensity at sensor 1.\n"
     ]
    }
   ],
   "source": [
    "import librosa\n",
    "import numpy as np\n",
    "\n",
    "# Load the audio files\n",
    "y1, sr1 = librosa.load('/home/tnguyen/Downloads/sensor1.wav')\n",
    "y2, sr2 = librosa.load('/home/tnguyen/Downloads/sensor2.wav')\n",
    "\n",
    "# Calculate the RMS value for each audio file\n",
    "rms_y1 = np.sqrt(np.mean(y1**2))\n",
    "rms_y2 = np.sqrt(np.mean(y2**2))\n",
    "\n",
    "print(\"RMS value for sensor1:\", rms_y1)\n",
    "print(\"RMS value for sensor2:\", rms_y2)\n",
    "\n",
    "# Calculate the RMS value for each audio file\n",
    "rms_y1 = np.sqrt(np.mean(y1**2))\n",
    "rms_y2 = np.sqrt(np.mean(y2**2))\n",
    "\n",
    "# Calculate the percentage of the intensity of sensor 2 relative to sensor 1\n",
    "intensity_percentage = (rms_y2 / rms_y1) * 100\n",
    "\n",
    "print(f\"The intensity at sensor 2 is {intensity_percentage:.2f}% of the intensity at sensor 1.\")\n",
    "\n"
   ]
  },
  {
   "cell_type": "code",
   "execution_count": 3,
   "id": "edf45891",
   "metadata": {},
   "outputs": [
    {
     "name": "stdout",
     "output_type": "stream",
     "text": [
      "The intensity at sensor 2 is 54.45% of the intensity at sensor 1.\n",
      "The intensity at sensor 3 is 56.69% of the intensity at sensor 1.\n",
      "The intensity at sensor 4 is 39.81% of the intensity at sensor 1.\n",
      "The intensity at sensor 5 is 18.24% of the intensity at sensor 1.\n",
      "The intensity at sensor 6 is 28.07% of the intensity at sensor 1.\n",
      "The intensity at sensor 7 is 18.81% of the intensity at sensor 1.\n",
      "The intensity at sensor 8 is 12.64% of the intensity at sensor 1.\n",
      "The intensity at sensor 9 is 16.74% of the intensity at sensor 1.\n"
     ]
    }
   ],
   "source": [
    "# List of sensor filenames\n",
    "sensors = ['/home/tnguyen/Downloads/sensor2.wav', '/home/tnguyen/Downloads/sensor3.wav',\n",
    "           '/home/tnguyen/Downloads/sensor4.wav', '/home/tnguyen/Downloads/sensor5.wav',\n",
    "           '/home/tnguyen/Downloads/sensor6.wav', '/home/tnguyen/Downloads/sensor7.wav',\n",
    "           '/home/tnguyen/Downloads/sensor8.wav', '/home/tnguyen/Downloads/sensor9.wav']\n",
    "\n",
    "# Calculate the RMS value for sensor 1\n",
    "rms_y1 = np.sqrt(np.mean(y1**2))\n",
    "\n",
    "# Initialize an empty list to hold the intensity percentages\n",
    "intensity_percentages = []\n",
    "\n",
    "# Loop through each sensor\n",
    "for sensor in sensors:\n",
    "    # Load the audio file\n",
    "    y, sr = librosa.load(sensor)\n",
    "    \n",
    "    # Calculate the RMS value for the sensor\n",
    "    rms_y = np.sqrt(np.mean(y**2))\n",
    "    \n",
    "    # Calculate the percentage of the intensity of the sensor relative to sensor 1\n",
    "    intensity_percentage = (rms_y / rms_y1) * 100\n",
    "    \n",
    "    # Append the intensity percentage to the list\n",
    "    intensity_percentages.append(intensity_percentage)\n",
    "\n",
    "# Print the results\n",
    "for i, percentage in enumerate(intensity_percentages, start=2):\n",
    "    print(f\"The intensity at sensor {i} is {percentage:.2f}% of the intensity at sensor 1.\")\n"
   ]
  },
  {
   "cell_type": "code",
   "execution_count": null,
   "id": "c952659d",
   "metadata": {},
   "outputs": [],
   "source": []
  }
 ],
 "metadata": {
  "kernelspec": {
   "display_name": "Python 3 (ipykernel)",
   "language": "python",
   "name": "python3"
  },
  "language_info": {
   "codemirror_mode": {
    "name": "ipython",
    "version": 3
   },
   "file_extension": ".py",
   "mimetype": "text/x-python",
   "name": "python",
   "nbconvert_exporter": "python",
   "pygments_lexer": "ipython3",
   "version": "3.10.9"
  }
 },
 "nbformat": 4,
 "nbformat_minor": 5
}
